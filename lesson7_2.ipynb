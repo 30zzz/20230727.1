{
 "cells": [
  {
   "cell_type": "code",
   "execution_count": 5,
   "metadata": {},
   "outputs": [
    {
     "name": "stdout",
     "output_type": "stream",
     "text": [
      "國文:78, 英文:89, 數學:87\n"
     ]
    }
   ],
   "source": [
    "#參數沒有defult值\n",
    "def scores(chin, eng, math):\n",
    "    print(f\"國文:{chin}, 英文:{eng}, 數學:{math}\")\n",
    "\n",
    "scores(78, 89, 87)"
   ]
  },
  {
   "cell_type": "code",
   "execution_count": 8,
   "metadata": {},
   "outputs": [
    {
     "name": "stdout",
     "output_type": "stream",
     "text": [
      "國文:89, 英文:60, 數學:60\n",
      "國文:89, 英文:60, 數學:80\n",
      "國文:89, 英文:98, 數學:45\n"
     ]
    }
   ],
   "source": [
    "#參數有defult值\n",
    "def scores1(chin, eng = 60, math = 60):\n",
    "    print(f\"國文:{chin}, 英文:{eng}, 數學:{math}\")\n",
    "\n",
    "scores1(89)\n",
    "scores1(89, math = 80)\n",
    "scores1(89, math = 45, eng = 98)"
   ]
  },
  {
   "cell_type": "code",
   "execution_count": 15,
   "metadata": {},
   "outputs": [
    {
     "name": "stdout",
     "output_type": "stream",
     "text": [
      "56到1009的質數是:\n",
      "59 61 67 71 73 79 83 89 97 101 103 107 109 113 127 131 137 139 149 151 157 163 167 173 179 181 191 193 197 199 211 223 227 229 233 239 241 251 257 263 269 271 277 281 283 293 307 311 313 317 331 337 347 349 353 359 367 373 379 383 389 397 401 409 419 421 431 433 439 443 449 457 461 463 467 479 487 491 499 503 509 521 523 541 547 557 563 569 571 577 587 593 599 601 607 613 617 619 631 641 643 647 653 659 661 673 677 683 691 701 709 719 727 733 739 743 751 757 761 769 773 787 797 809 811 821 823 827 829 839 853 857 859 863 877 881 883 887 907 911 919 929 937 941 947 953 967 971 977 983 991 997 1009 "
     ]
    }
   ],
   "source": [
    "def printPrime(first, end):\n",
    "    if first < 2:\n",
    "        first = 2\n",
    "    print(f\"{first}到{end}的質數是:\")\n",
    "    for num in range(first, end+1):\n",
    "        is_prime = True\n",
    "        for i in range(2, num):\n",
    "            if num % i == 0:\n",
    "                is_prime = False \n",
    "\n",
    "        if is_prime:\n",
    "            print(f\"{num}\", end = \" \" )\n",
    "\n",
    "f = int(input(\"輸入first值:\"))\n",
    "e = int(input(\"輸入end值:\"))\n",
    "printPrime(f, e)"
   ]
  }
 ],
 "metadata": {
  "kernelspec": {
   "display_name": "Python 3",
   "language": "python",
   "name": "python3"
  },
  "language_info": {
   "codemirror_mode": {
    "name": "ipython",
    "version": 3
   },
   "file_extension": ".py",
   "mimetype": "text/x-python",
   "name": "python",
   "nbconvert_exporter": "python",
   "pygments_lexer": "ipython3",
   "version": "3.10.12"
  },
  "orig_nbformat": 4
 },
 "nbformat": 4,
 "nbformat_minor": 2
}
