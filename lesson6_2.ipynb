{
 "cells": [
  {
   "cell_type": "code",
   "execution_count": 6,
   "metadata": {},
   "outputs": [
    {
     "data": {
      "text/plain": [
       "1"
      ]
     },
     "execution_count": 6,
     "metadata": {},
     "output_type": "execute_result"
    }
   ],
   "source": [
    "#產生0~4的亂數\n",
    "import random\n",
    "random.randrange(5)"
   ]
  },
  {
   "cell_type": "code",
   "execution_count": 7,
   "metadata": {},
   "outputs": [
    {
     "data": {
      "text/plain": [
       "1"
      ]
     },
     "execution_count": 7,
     "metadata": {},
     "output_type": "execute_result"
    }
   ],
   "source": [
    "random.randrange(5)"
   ]
  },
  {
   "cell_type": "code",
   "execution_count": 5,
   "metadata": {},
   "outputs": [
    {
     "data": {
      "text/plain": [
       "9"
      ]
     },
     "execution_count": 5,
     "metadata": {},
     "output_type": "execute_result"
    }
   ],
   "source": [
    "#產生1~9的亂數\n",
    "random.randint(1, 10)"
   ]
  },
  {
   "cell_type": "code",
   "execution_count": 17,
   "metadata": {},
   "outputs": [
    {
     "name": "stdout",
     "output_type": "stream",
     "text": [
      "=====猜數字遊戲======\n",
      "\n",
      "答對!!, 答案是6\n",
      "你總共猜了1次\n",
      "GAME END\n"
     ]
    }
   ],
   "source": [
    "#random猜數字遊戲\n",
    "min = 1; max = 10\n",
    "target = random.randint(min, max)\n",
    "count = 0\n",
    "\n",
    "print(\"=====猜數字遊戲======\\n\")\n",
    "while True:\n",
    "    key = int(input(f\"猜數字的範圍{min}~{max}\"))\n",
    "    count += 1\n",
    "    if key >= min and key <= max:\n",
    "        if (key == target):\n",
    "            print(f\"答對!!, 答案是{key}\")\n",
    "            print(f\"你總共猜了{count}次\")\n",
    "            break\n",
    "        else:\n",
    "            print(\"猜錯囉\")\n",
    "    else:\n",
    "        print(\"超出範圍\")\n",
    "print(\"GAME END\")"
   ]
  },
  {
   "cell_type": "code",
   "execution_count": 25,
   "metadata": {},
   "outputs": [
    {
     "name": "stdout",
     "output_type": "stream",
     "text": [
      "=====猜數字遊戲======\n",
      "\n",
      "再大一點\n",
      "你總共猜了1次\n",
      "再小一點\n",
      "你總共猜了2次\n",
      "超出範圍\n",
      "再小一點\n",
      "你總共猜了4次\n",
      "再大一點\n",
      "你總共猜了5次\n",
      "再大一點\n",
      "你總共猜了6次\n",
      "再小一點\n",
      "你總共猜了7次\n",
      "再小一點\n",
      "你總共猜了8次\n",
      "超出範圍\n",
      "再大一點\n",
      "你總共猜了10次\n",
      "答對!!, 答案是68\n",
      "你總共猜了11次\n",
      "GAME END\n"
     ]
    }
   ],
   "source": [
    "min = 1; max = 100\n",
    "target = random.randint(min, max)\n",
    "count = 0\n",
    "\n",
    "print(\"=====猜數字遊戲======\\n\")\n",
    "while True:\n",
    "    key = int(input(f\"猜數字的範圍{min}~{max}\"))\n",
    "    count += 1\n",
    "    if key >= min and key <= max:\n",
    "        if (key == target):\n",
    "            print(f\"答對!!, 答案是{key}\")\n",
    "            print(f\"你總共猜了{count}次\")\n",
    "            break\n",
    "        elif(key > target):\n",
    "            print(\"再小一點\")\n",
    "            max = key - 1\n",
    "\n",
    "        elif(key < target):\n",
    "            print(\"再大一點\")\n",
    "            min = key + 1\n",
    "\n",
    "        print(f\"你總共猜了{count}次\")\n",
    "    else:\n",
    "        print(\"超出範圍\")\n",
    "print(\"GAME END\")"
   ]
  }
 ],
 "metadata": {
  "kernelspec": {
   "display_name": "Python 3",
   "language": "python",
   "name": "python3"
  },
  "language_info": {
   "codemirror_mode": {
    "name": "ipython",
    "version": 3
   },
   "file_extension": ".py",
   "mimetype": "text/x-python",
   "name": "python",
   "nbconvert_exporter": "python",
   "pygments_lexer": "ipython3",
   "version": "3.10.12"
  },
  "orig_nbformat": 4
 },
 "nbformat": 4,
 "nbformat_minor": 2
}
