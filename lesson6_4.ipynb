{
 "cells": [
  {
   "cell_type": "code",
   "execution_count": 1,
   "metadata": {},
   "outputs": [
    {
     "name": "stdout",
     "output_type": "stream",
     "text": [
      "=====猜數字遊戲======\n",
      "\n",
      "再小一點\n",
      "你總共猜了1次\n",
      "再小一點\n",
      "你總共猜了2次\n",
      "再小一點\n",
      "你總共猜了3次\n",
      "再大一點\n",
      "你總共猜了4次\n",
      "再小一點\n",
      "你總共猜了5次\n",
      "再大一點\n",
      "你總共猜了6次\n",
      "答對!!, 答案是7\n",
      "你總共猜了7次\n",
      "GAME END\n"
     ]
    }
   ],
   "source": [
    "import random\n",
    "min = 1; max = 100\n",
    "target = random.randint(min, max)\n",
    "count = 0\n",
    "\n",
    "print(\"=====猜數字遊戲======\\n\")\n",
    "while True:\n",
    "    key = int(input(f\"猜數字的範圍{min}~{max}: \"))\n",
    "    count += 1\n",
    "    if key >= min and key <= max:\n",
    "        if (key == target):\n",
    "            print(f\"答對!!, 答案是{key}\")\n",
    "            print(f\"你總共猜了{count}次\")\n",
    "            break\n",
    "        elif(key > target):\n",
    "            print(\"再小一點\")\n",
    "            max = key - 1\n",
    "\n",
    "        elif(key < target):\n",
    "            print(\"再大一點\")\n",
    "            min = key + 1\n",
    "\n",
    "        print(f\"你總共猜了{count}次\")\n",
    "    else:\n",
    "        print(\"超出範圍\")\n",
    "print(\"GAME END\")"
   ]
  },
  {
   "cell_type": "code",
   "execution_count": 4,
   "metadata": {},
   "outputs": [
    {
     "name": "stdout",
     "output_type": "stream",
     "text": [
      "=====猜數字遊戲======\n",
      "\n",
      "再小一點\n",
      "你總共猜了1次\n",
      "再大一點\n",
      "你總共猜了2次\n",
      "再大一點\n",
      "你總共猜了3次\n",
      "再大一點\n",
      "你總共猜了4次\n",
      "再大一點\n",
      "你總共猜了5次\n",
      "再大一點\n",
      "你總共猜了6次\n",
      "再大一點\n",
      "你總共猜了7次\n",
      "答對!!, 答案是54\n",
      "你總共猜了8次\n",
      "遊戲結束\n"
     ]
    }
   ],
   "source": [
    "import random\n",
    "def game():\n",
    "    min = 1; max = 100\n",
    "    target = random.randint(min, max)\n",
    "    count = 0\n",
    "\n",
    "    print(\"=====猜數字遊戲======\\n\")\n",
    "    while True:\n",
    "        key = int(input(f\"猜數字的範圍{min}~{max}: \"))\n",
    "        count += 1\n",
    "        if key >= min and key <= max:\n",
    "            if (key == target):\n",
    "                print(f\"答對!!, 答案是{key}\")\n",
    "                print(f\"你總共猜了{count}次\")\n",
    "                break\n",
    "            elif(key > target):\n",
    "                print(\"再小一點\")\n",
    "                max = key - 1\n",
    "\n",
    "            elif(key < target):\n",
    "                print(\"再大一點\")\n",
    "                min = key + 1\n",
    "\n",
    "            print(f\"你總共猜了{count}次\")\n",
    "        else:\n",
    "            print(\"超出範圍\")\n",
    "while True:\n",
    "    game()\n",
    "    again = input(\"還要繼續玩嗎?(y, n)\")\n",
    "    if again == 'n':\n",
    "        break\n",
    "    else:\n",
    "        print(\"繼續遊戲\")\n",
    "print(\"遊戲結束\")"
   ]
  },
  {
   "cell_type": "code",
   "execution_count": null,
   "metadata": {},
   "outputs": [],
   "source": []
  }
 ],
 "metadata": {
  "kernelspec": {
   "display_name": "Python 3",
   "language": "python",
   "name": "python3"
  },
  "language_info": {
   "codemirror_mode": {
    "name": "ipython",
    "version": 3
   },
   "file_extension": ".py",
   "mimetype": "text/x-python",
   "name": "python",
   "nbconvert_exporter": "python",
   "pygments_lexer": "ipython3",
   "version": "3.10.12"
  },
  "orig_nbformat": 4
 },
 "nbformat": 4,
 "nbformat_minor": 2
}
