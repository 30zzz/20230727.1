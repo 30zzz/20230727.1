{
 "cells": [
  {
   "cell_type": "code",
   "execution_count": 6,
   "metadata": {},
   "outputs": [
    {
     "data": {
      "text/plain": [
       "1"
      ]
     },
     "execution_count": 6,
     "metadata": {},
     "output_type": "execute_result"
    }
   ],
   "source": [
    "#產生0~4的亂數\n",
    "import random\n",
    "random.randrange(5)"
   ]
  },
  {
   "cell_type": "code",
   "execution_count": 7,
   "metadata": {},
   "outputs": [
    {
     "data": {
      "text/plain": [
       "1"
      ]
     },
     "execution_count": 7,
     "metadata": {},
     "output_type": "execute_result"
    }
   ],
   "source": [
    "random.randrange(5)"
   ]
  },
  {
   "cell_type": "code",
   "execution_count": 5,
   "metadata": {},
   "outputs": [
    {
     "data": {
      "text/plain": [
       "9"
      ]
     },
     "execution_count": 5,
     "metadata": {},
     "output_type": "execute_result"
    }
   ],
   "source": [
    "#產生1~9的亂數\n",
    "random.randint(1, 10)"
   ]
  },
  {
   "cell_type": "code",
   "execution_count": 14,
   "metadata": {},
   "outputs": [
    {
     "name": "stdout",
     "output_type": "stream",
     "text": [
      "=====猜數字遊戲======\n",
      "\n",
      "猜錯囉\n",
      "猜錯囉\n",
      "猜錯囉\n",
      "猜錯囉\n",
      "猜錯囉\n",
      "答對!!, 答案是1\n",
      "你總共猜了6次\n",
      "GAME END\n"
     ]
    }
   ],
   "source": [
    "#random猜數字遊戲\n",
    "min = 1; max = 10\n",
    "target = random.randint(1, 10)\n",
    "count = 0\n",
    "\n",
    "print(\"=====猜數字遊戲======\\n\")\n",
    "while True:\n",
    "    key = int(input(f\"猜數字的範圍{min}~{max}\"))\n",
    "    count += 1\n",
    "    if key >= min and key <= max:\n",
    "        if (key == target):\n",
    "            print(f\"答對!!, 答案是{key}\")\n",
    "            print(f\"你總共猜了{count}次\")\n",
    "            break\n",
    "        else:\n",
    "            print(\"猜錯囉\")\n",
    "    else:\n",
    "        print(\"超出範圍\")\n",
    "print(\"GAME END\")"
   ]
  },
  {
   "cell_type": "code",
   "execution_count": null,
   "metadata": {},
   "outputs": [],
   "source": []
  }
 ],
 "metadata": {
  "kernelspec": {
   "display_name": "Python 3",
   "language": "python",
   "name": "python3"
  },
  "language_info": {
   "codemirror_mode": {
    "name": "ipython",
    "version": 3
   },
   "file_extension": ".py",
   "mimetype": "text/x-python",
   "name": "python",
   "nbconvert_exporter": "python",
   "pygments_lexer": "ipython3",
   "version": "3.10.12"
  },
  "orig_nbformat": 4
 },
 "nbformat": 4,
 "nbformat_minor": 2
}
