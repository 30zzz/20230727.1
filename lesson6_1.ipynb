{
 "cells": [
  {
   "cell_type": "code",
   "execution_count": 1,
   "metadata": {},
   "outputs": [
    {
     "name": "stdout",
     "output_type": "stream",
     "text": [
      "1\n",
      "2\n",
      "3\n",
      "4\n",
      "5\n",
      "程式結束\n"
     ]
    }
   ],
   "source": [
    "#執行5次 列印出1-5 while\n",
    "count = 1\n",
    "while count <= 5:\n",
    "    print(count)\n",
    "    count += 1\n",
    "\n",
    "print(\"程式結束\")"
   ]
  },
  {
   "cell_type": "code",
   "execution_count": 8,
   "metadata": {},
   "outputs": [
    {
     "name": "stdout",
     "output_type": "stream",
     "text": [
      "恭喜!, 存了1個月, 總存款為123456元\n"
     ]
    }
   ],
   "source": [
    "#小明想買一輛機車3w元 他將每月存錢輸入 當足夠時就告知可買車\n",
    "motoPrice = 30000\n",
    "deposit = 0\n",
    "month = 0\n",
    "while(deposit < 30000):\n",
    "    month += 1\n",
    "    save = int(input(f\"請輸入{month}月存款:\"))\n",
    "    deposit += save\n",
    "print(f\"恭喜!, 存了{month}個月, 總存款為{deposit}元\")"
   ]
  },
  {
   "cell_type": "code",
   "execution_count": 10,
   "metadata": {},
   "outputs": [
    {
     "name": "stdout",
     "output_type": "stream",
     "text": [
      "1\n",
      "2\n",
      "3\n",
      "4\n",
      "5\n",
      "Programming Over\n"
     ]
    }
   ],
   "source": [
    "#使用True While, break跳出迴圈\n",
    "count = 1\n",
    "while True:\n",
    "    print(count)\n",
    "    count += 1\n",
    "    if count > 5:\n",
    "        break\n",
    "print(\"Programming Over\")"
   ]
  },
  {
   "cell_type": "code",
   "execution_count": 12,
   "metadata": {},
   "outputs": [
    {
     "name": "stdout",
     "output_type": "stream",
     "text": [
      "恭喜!, 存了3個月, 總存款為30000元\n"
     ]
    }
   ],
   "source": [
    "#使用True While, break跳出迴圈\n",
    "motoPrice = 30000\n",
    "deposit = 0\n",
    "month = 0\n",
    "while True:\n",
    "    month += 1\n",
    "    save = int(input(f\"請輸入{month}月存款:\"))\n",
    "    deposit += save\n",
    "    if deposit >= 30000:\n",
    "        break\n",
    "\n",
    "print(f\"恭喜!, 存了{month}個月, 總存款為{deposit}元\")"
   ]
  },
  {
   "cell_type": "code",
   "execution_count": 2,
   "metadata": {},
   "outputs": [
    {
     "name": "stdout",
     "output_type": "stream",
     "text": [
      "輸入3次, 偶數值加總為24\n"
     ]
    }
   ],
   "source": [
    "#請使用者輸入數值，只加總偶數，若輸入負數則結束程式\n",
    "#break, continue\n",
    "sum = 0; num = 0\n",
    "while True:\n",
    "    value = int(input(f\"請輸入第{num+1}個數值:\"))\n",
    "    if value < 0:\n",
    "        break\n",
    "    num += 1\n",
    "    if value % 2 == 1:\n",
    "        continue\n",
    "    sum += value\n",
    "    \n",
    "\n",
    "print(f\"輸入{num}次, 偶數值加總為{sum}\")    "
   ]
  }
 ],
 "metadata": {
  "kernelspec": {
   "display_name": "Python 3",
   "language": "python",
   "name": "python3"
  },
  "language_info": {
   "codemirror_mode": {
    "name": "ipython",
    "version": 3
   },
   "file_extension": ".py",
   "mimetype": "text/x-python",
   "name": "python",
   "nbconvert_exporter": "python",
   "pygments_lexer": "ipython3",
   "version": "3.10.12"
  },
  "orig_nbformat": 4
 },
 "nbformat": 4,
 "nbformat_minor": 2
}
