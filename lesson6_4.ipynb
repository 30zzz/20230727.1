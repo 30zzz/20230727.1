{
 "cells": [
  {
   "cell_type": "code",
   "execution_count": null,
   "metadata": {},
   "outputs": [],
   "source": [
    "import random\n",
    "min = 1; max = 100\n",
    "target = random.randint(min, max)\n",
    "count = 0\n",
    "\n",
    "print(\"=====猜數字遊戲======\\n\")\n",
    "while True:\n",
    "    key = int(input(f\"猜數字的範圍{min}~{max}: \"))\n",
    "    count += 1\n",
    "    if key >= min and key <= max:\n",
    "        if (key == target):\n",
    "            print(f\"答對!!, 答案是{key}\")\n",
    "            print(f\"你總共猜了{count}次\")\n",
    "            break\n",
    "        elif(key > target):\n",
    "            print(\"再小一點\")\n",
    "            max = key - 1\n",
    "\n",
    "        elif(key < target):\n",
    "            print(\"再大一點\")\n",
    "            min = key + 1\n",
    "\n",
    "        print(f\"你總共猜了{count}次\")\n",
    "    else:\n",
    "        print(\"超出範圍\")\n",
    "print(\"GAME END\")"
   ]
  }
 ],
 "metadata": {
  "language_info": {
   "name": "python"
  },
  "orig_nbformat": 4
 },
 "nbformat": 4,
 "nbformat_minor": 2
}
