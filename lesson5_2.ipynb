{
 "cells": [
  {
   "cell_type": "code",
   "execution_count": 3,
   "metadata": {},
   "outputs": [
    {
     "name": "stdout",
     "output_type": "stream",
     "text": [
      "1\n",
      "2\n",
      "3\n",
      "4\n",
      "-\n",
      "1\n",
      "3\n",
      "5\n",
      "7\n",
      "9\n"
     ]
    }
   ],
   "source": [
    "for i in range(1, 5):\n",
    "    print(i)\n",
    "print(\"-\")\n",
    "for i in range(1, 10, 2):\n",
    "    print(i)"
   ]
  },
  {
   "cell_type": "code",
   "execution_count": 10,
   "metadata": {},
   "outputs": [
    {
     "name": "stdout",
     "output_type": "stream",
     "text": [
      "1-100 加總為 5050\n"
     ]
    }
   ],
   "source": [
    "#1-100的加總\n",
    "total = 0\n",
    "for i in range(1, 101):\n",
    "    total += i\n",
    "print(\"1-100 加總為\", total)"
   ]
  },
  {
   "cell_type": "code",
   "execution_count": 11,
   "metadata": {},
   "outputs": [
    {
     "name": "stdout",
     "output_type": "stream",
     "text": [
      "1到 100 的總值為 5050\n"
     ]
    }
   ],
   "source": [
    "number = int(input(\"請輸入N:\"))\n",
    "total = 0\n",
    "for i in range(1, number + 1):\n",
    "    total += i\n",
    "\n",
    "print(\"1到\", number, \"的總值為\", total)"
   ]
  },
  {
   "cell_type": "code",
   "execution_count": 4,
   "metadata": {},
   "outputs": [
    {
     "name": "stdout",
     "output_type": "stream",
     "text": [
      "初數 15 到末數 45 的加總值為 930\n"
     ]
    }
   ],
   "source": [
    "start = int(input(\"請輸入初數:\"))\n",
    "end = int(input(\"請輸入末數:\"))\n",
    "total = 0\n",
    "for i in range(start, end + 1):\n",
    "    total += i\n",
    "print(\"初數\", start , \"到末數\", end, \"的加總值為\", total)"
   ]
  },
  {
   "cell_type": "code",
   "execution_count": 8,
   "metadata": {},
   "outputs": [
    {
     "name": "stdout",
     "output_type": "stream",
     "text": [
      "1到100 偶數的加總為: 2550\n",
      "1到100 奇數的加總為: 2500\n"
     ]
    }
   ],
   "source": [
    "#1-100 偶數的加總\n",
    "#1-100 奇數的加總\n",
    "evenTotal = 0\n",
    "oddTotal = 0\n",
    "\n",
    "for i in range(1, 101):\n",
    "    if i % 2 == 0:\n",
    "        evenTotal += i\n",
    "    else:\n",
    "        oddTotal += i\n",
    "\n",
    "print(\"1到100 偶數的加總為:\", evenTotal)\n",
    "print(\"1到100 奇數的加總為:\", oddTotal)"
   ]
  },
  {
   "cell_type": "code",
   "execution_count": 19,
   "metadata": {},
   "outputs": [
    {
     "name": "stdout",
     "output_type": "stream",
     "text": [
      "1*1=1 1*2=2 1*3=3 1*4=4 1*5=5 1*6=6 1*7=7 1*8=8 1*9=9 \n",
      "2*1=2 2*2=4 2*3=6 2*4=8 2*5=10 2*6=12 2*7=14 2*8=16 2*9=18 \n",
      "3*1=3 3*2=6 3*3=9 3*4=12 3*5=15 3*6=18 3*7=21 3*8=24 3*9=27 \n",
      "4*1=4 4*2=8 4*3=12 4*4=16 4*5=20 4*6=24 4*7=28 4*8=32 4*9=36 \n",
      "5*1=5 5*2=10 5*3=15 5*4=20 5*5=25 5*6=30 5*7=35 5*8=40 5*9=45 \n",
      "6*1=6 6*2=12 6*3=18 6*4=24 6*5=30 6*6=36 6*7=42 6*8=48 6*9=54 \n",
      "7*1=7 7*2=14 7*3=21 7*4=28 7*5=35 7*6=42 7*7=49 7*8=56 7*9=63 \n",
      "8*1=8 8*2=16 8*3=24 8*4=32 8*5=40 8*6=48 8*7=56 8*8=64 8*9=72 \n",
      "9*1=9 9*2=18 9*3=27 9*4=36 9*5=45 9*6=54 9*7=63 9*8=72 9*9=81 \n"
     ]
    }
   ],
   "source": [
    "#巢狀迴圈\n",
    "for i in range(1, 10):\n",
    "    for j in range(1, 10):\n",
    "        print(f\"{i:<2d}*{j:2d}={i*j}\", end = ' ')\n",
    "    print()"
   ]
  },
  {
   "cell_type": "code",
   "execution_count": 17,
   "metadata": {},
   "outputs": [
    {
     "name": "stdout",
     "output_type": "stream",
     "text": [
      "10   *   10\n"
     ]
    }
   ],
   "source": [
    "num = 10\n",
    "print(f\"{num:<5d}*{num:>5d}\")"
   ]
  },
  {
   "cell_type": "code",
   "execution_count": 26,
   "metadata": {},
   "outputs": [
    {
     "name": "stdout",
     "output_type": "stream",
     "text": [
      "2 是質數\n",
      "3 是質數\n",
      "4 不是質數\n",
      "5 是質數\n",
      "6 不是質數\n",
      "7 是質數\n",
      "8 不是質數\n",
      "9 不是質數\n",
      "10 不是質數\n",
      "11 是質數\n",
      "12 不是質數\n",
      "13 是質數\n",
      "14 不是質數\n",
      "15 不是質數\n",
      "16 不是質數\n",
      "17 是質數\n",
      "18 不是質數\n",
      "19 是質數\n",
      "20 不是質數\n",
      "21 不是質數\n",
      "22 不是質數\n",
      "23 是質數\n",
      "24 不是質數\n",
      "25 不是質數\n",
      "26 不是質數\n",
      "27 不是質數\n",
      "28 不是質數\n",
      "29 是質數\n",
      "30 不是質數\n",
      "31 是質數\n",
      "32 不是質數\n",
      "33 不是質數\n",
      "34 不是質數\n",
      "35 不是質數\n",
      "36 不是質數\n",
      "37 是質數\n",
      "38 不是質數\n",
      "39 不是質數\n",
      "40 不是質數\n",
      "41 是質數\n",
      "42 不是質數\n",
      "43 是質數\n",
      "44 不是質數\n",
      "45 不是質數\n",
      "46 不是質數\n",
      "47 是質數\n",
      "48 不是質數\n",
      "49 不是質數\n",
      "50 不是質數\n",
      "51 不是質數\n",
      "52 不是質數\n",
      "53 是質數\n",
      "54 不是質數\n",
      "55 不是質數\n",
      "56 不是質數\n",
      "57 不是質數\n",
      "58 不是質數\n",
      "59 是質數\n",
      "60 不是質數\n",
      "61 是質數\n",
      "62 不是質數\n",
      "63 不是質數\n",
      "64 不是質數\n",
      "65 不是質數\n",
      "66 不是質數\n",
      "67 是質數\n",
      "68 不是質數\n",
      "69 不是質數\n",
      "70 不是質數\n",
      "71 是質數\n",
      "72 不是質數\n",
      "73 是質數\n",
      "74 不是質數\n",
      "75 不是質數\n",
      "76 不是質數\n",
      "77 不是質數\n",
      "78 不是質數\n",
      "79 是質數\n",
      "80 不是質數\n",
      "81 不是質數\n",
      "82 不是質數\n",
      "83 是質數\n",
      "84 不是質數\n",
      "85 不是質數\n",
      "86 不是質數\n",
      "87 不是質數\n",
      "88 不是質數\n",
      "89 是質數\n",
      "90 不是質數\n",
      "91 不是質數\n",
      "92 不是質數\n",
      "93 不是質數\n",
      "94 不是質數\n",
      "95 不是質數\n",
      "96 不是質數\n",
      "97 是質數\n",
      "98 不是質數\n",
      "99 不是質數\n",
      "100 不是質數\n"
     ]
    }
   ],
   "source": [
    "for num in range(2, 100+1):\n",
    "    is_prime = True\n",
    "    for i in range(2, num):\n",
    "        if num % i == 0:\n",
    "            is_prime = False \n",
    "\n",
    "    if is_prime:\n",
    "        print(f\"{num} 是質數\")\n",
    "    else:\n",
    "        print(f\"{num} 不是質數\")"
   ]
  }
 ],
 "metadata": {
  "kernelspec": {
   "display_name": "Python 3",
   "language": "python",
   "name": "python3"
  },
  "language_info": {
   "codemirror_mode": {
    "name": "ipython",
    "version": 3
   },
   "file_extension": ".py",
   "mimetype": "text/x-python",
   "name": "python",
   "nbconvert_exporter": "python",
   "pygments_lexer": "ipython3",
   "version": "3.10.12"
  },
  "orig_nbformat": 4
 },
 "nbformat": 4,
 "nbformat_minor": 2
}
