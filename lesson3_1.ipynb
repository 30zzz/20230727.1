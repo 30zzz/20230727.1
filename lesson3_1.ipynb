{
 "cells": [
  {
   "cell_type": "code",
   "execution_count": 10,
   "metadata": {},
   "outputs": [
    {
     "data": {
      "text/plain": [
       "5000"
      ]
     },
     "execution_count": 10,
     "metadata": {},
     "output_type": "execute_result"
    }
   ],
   "source": [
    "100 * 50"
   ]
  },
  {
   "cell_type": "code",
   "execution_count": 11,
   "metadata": {},
   "outputs": [
    {
     "name": "stdout",
     "output_type": "stream",
     "text": [
      "對邊:2.5, 斜邊:5, 角度:30.00\n"
     ]
    }
   ],
   "source": [
    "#高中數學\n",
    "#計算角度\n",
    "import math\n",
    "side1 = eval(input(\"請輸入對邊:\"))\n",
    "side2 = eval(input(\"請輸入斜邊:\"))\n",
    "\n",
    "rad = math.asin(side1 / side2)\n",
    "degree = math.degrees(rad)\n",
    "print(f\"對邊:{side1}, 斜邊:{side2}, 角度:{degree:.2f}\")"
   ]
  },
  {
   "cell_type": "code",
   "execution_count": 12,
   "metadata": {},
   "outputs": [
    {
     "name": "stdout",
     "output_type": "stream",
     "text": [
      "梯形面積: 75.0 平方公分\n"
     ]
    }
   ],
   "source": [
    "#國中數學\n",
    "#請使用者輸入梯形上下底及高、程式計算面積((上底+下底)/*高)\n",
    "top = float(input(\"請輸入梯形上底(公分): \"))\n",
    "bot = float(input(\"請輸入梯形下底(公分): \"))\n",
    "hight = float(input(\"請輸入梯形高(公分): \"))\n",
    "\n",
    "sum = (bot + top) * hight / 2\n",
    "\n",
    "print(\"梯形面積:\", round(sum, ndigits = 2), \"平方公分\")"
   ]
  },
  {
   "cell_type": "code",
   "execution_count": 1,
   "metadata": {},
   "outputs": [
    {
     "data": {
      "text/plain": [
       "array([ 0,  1,  2,  3,  4,  5,  6,  7,  8,  9, 10, 11, 12, 13, 14, 15, 16,\n",
       "       17, 18, 19, 20, 21, 22, 23, 24, 25, 26, 27, 28, 29, 30, 31, 32, 33,\n",
       "       34, 35, 36, 37, 38, 39, 40, 41, 42, 43, 44, 45, 46, 47, 48, 49, 50,\n",
       "       51, 52, 53, 54, 55, 56, 57, 58, 59, 60, 61, 62, 63, 64, 65, 66, 67,\n",
       "       68, 69, 70, 71, 72, 73, 74, 75, 76, 77, 78, 79, 80, 81, 82, 83, 84,\n",
       "       85, 86, 87, 88, 89, 90, 91, 92, 93, 94, 95, 96, 97, 98, 99])"
      ]
     },
     "execution_count": 1,
     "metadata": {},
     "output_type": "execute_result"
    }
   ],
   "source": [
    "#大學數學\n",
    "import sympy\n",
    "import numpy\n",
    "\n",
    "numpy.arange(100)"
   ]
  }
 ],
 "metadata": {
  "kernelspec": {
   "display_name": "Python 3",
   "language": "python",
   "name": "python3"
  },
  "language_info": {
   "codemirror_mode": {
    "name": "ipython",
    "version": 3
   },
   "file_extension": ".py",
   "mimetype": "text/x-python",
   "name": "python",
   "nbconvert_exporter": "python",
   "pygments_lexer": "ipython3",
   "version": "3.10.12"
  },
  "orig_nbformat": 4
 },
 "nbformat": 4,
 "nbformat_minor": 2
}
