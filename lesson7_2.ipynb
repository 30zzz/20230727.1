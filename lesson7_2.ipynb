{
 "cells": [
  {
   "cell_type": "code",
   "execution_count": 5,
   "metadata": {},
   "outputs": [
    {
     "name": "stdout",
     "output_type": "stream",
     "text": [
      "國文:78, 英文:89, 數學:87\n"
     ]
    }
   ],
   "source": [
    "#參數沒有defult值\n",
    "def scores(chin, eng, math):\n",
    "    print(f\"國文:{chin}, 英文:{eng}, 數學:{math}\")\n",
    "\n",
    "scores(78, 89, 87)"
   ]
  },
  {
   "cell_type": "code",
   "execution_count": 8,
   "metadata": {},
   "outputs": [
    {
     "name": "stdout",
     "output_type": "stream",
     "text": [
      "國文:89, 英文:60, 數學:60\n",
      "國文:89, 英文:60, 數學:80\n",
      "國文:89, 英文:98, 數學:45\n"
     ]
    }
   ],
   "source": [
    "#參數有defult值\n",
    "def scores1(chin, eng = 60, math = 60):\n",
    "    print(f\"國文:{chin}, 英文:{eng}, 數學:{math}\")\n",
    "\n",
    "scores1(89)\n",
    "scores1(89, math = 80)\n",
    "scores1(89, math = 45, eng = 98)"
   ]
  },
  {
   "cell_type": "code",
   "execution_count": null,
   "metadata": {},
   "outputs": [],
   "source": []
  }
 ],
 "metadata": {
  "kernelspec": {
   "display_name": "Python 3",
   "language": "python",
   "name": "python3"
  },
  "language_info": {
   "codemirror_mode": {
    "name": "ipython",
    "version": 3
   },
   "file_extension": ".py",
   "mimetype": "text/x-python",
   "name": "python",
   "nbconvert_exporter": "python",
   "pygments_lexer": "ipython3",
   "version": "3.10.12"
  },
  "orig_nbformat": 4
 },
 "nbformat": 4,
 "nbformat_minor": 2
}
