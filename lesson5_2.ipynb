{
 "cells": [
  {
   "cell_type": "code",
   "execution_count": 3,
   "metadata": {},
   "outputs": [
    {
     "name": "stdout",
     "output_type": "stream",
     "text": [
      "1\n",
      "2\n",
      "3\n",
      "4\n",
      "-\n",
      "1\n",
      "3\n",
      "5\n",
      "7\n",
      "9\n"
     ]
    }
   ],
   "source": [
    "for i in range(1, 5):\n",
    "    print(i)\n",
    "print(\"-\")\n",
    "for i in range(1, 10, 2):\n",
    "    print(i)"
   ]
  },
  {
   "cell_type": "code",
   "execution_count": 10,
   "metadata": {},
   "outputs": [
    {
     "name": "stdout",
     "output_type": "stream",
     "text": [
      "1-100 加總為 5050\n"
     ]
    }
   ],
   "source": [
    "#1-100的加總\n",
    "total = 0\n",
    "for i in range(1, 101):\n",
    "    total += i\n",
    "print(\"1-100 加總為\", total)"
   ]
  },
  {
   "cell_type": "code",
   "execution_count": 11,
   "metadata": {},
   "outputs": [
    {
     "name": "stdout",
     "output_type": "stream",
     "text": [
      "1到 100 的總值為 5050\n"
     ]
    }
   ],
   "source": [
    "number = int(input(\"請輸入N:\"))\n",
    "total = 0\n",
    "for i in range(1, number + 1):\n",
    "    total += i\n",
    "\n",
    "print(\"1到\", number, \"的總值為\", total)"
   ]
  },
  {
   "cell_type": "code",
   "execution_count": 4,
   "metadata": {},
   "outputs": [
    {
     "name": "stdout",
     "output_type": "stream",
     "text": [
      "初數 15 到末數 45 的加總值為 930\n"
     ]
    }
   ],
   "source": [
    "start = int(input(\"請輸入初數:\"))\n",
    "end = int(input(\"請輸入末數:\"))\n",
    "total = 0\n",
    "for i in range(start, end + 1):\n",
    "    total += i\n",
    "print(\"初數\", start , \"到末數\", end, \"的加總值為\", total)"
   ]
  },
  {
   "cell_type": "code",
   "execution_count": 8,
   "metadata": {},
   "outputs": [
    {
     "name": "stdout",
     "output_type": "stream",
     "text": [
      "1到100 偶數的加總為: 2550\n",
      "1到100 奇數的加總為: 2500\n"
     ]
    }
   ],
   "source": [
    "#1-100 偶數的加總\n",
    "#1-100 奇數的加總\n",
    "evenTotal = 0\n",
    "oddTotal = 0\n",
    "\n",
    "for i in range(1, 101):\n",
    "    if i % 2 == 0:\n",
    "        evenTotal += i\n",
    "    else:\n",
    "        oddTotal += i\n",
    "\n",
    "print(\"1到100 偶數的加總為:\", evenTotal)\n",
    "print(\"1到100 奇數的加總為:\", oddTotal)"
   ]
  }
 ],
 "metadata": {
  "kernelspec": {
   "display_name": "Python 3",
   "language": "python",
   "name": "python3"
  },
  "language_info": {
   "codemirror_mode": {
    "name": "ipython",
    "version": 3
   },
   "file_extension": ".py",
   "mimetype": "text/x-python",
   "name": "python",
   "nbconvert_exporter": "python",
   "pygments_lexer": "ipython3",
   "version": "3.10.12"
  },
  "orig_nbformat": 4
 },
 "nbformat": 4,
 "nbformat_minor": 2
}
