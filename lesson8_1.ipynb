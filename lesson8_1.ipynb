{
 "cells": [
  {
   "cell_type": "code",
   "execution_count": 11,
   "metadata": {},
   "outputs": [
    {
     "data": {
      "text/plain": [
       "'Hello Wor'"
      ]
     },
     "execution_count": 11,
     "metadata": {},
     "output_type": "execute_result"
    }
   ],
   "source": [
    "greeting = 'Hello World!'\n",
    "greeting[:7] \n",
    "greeting[:-3]"
   ]
  },
  {
   "cell_type": "code",
   "execution_count": 19,
   "metadata": {},
   "outputs": [
    {
     "data": {
      "text/plain": [
       "'Siri'"
      ]
     },
     "execution_count": 19,
     "metadata": {},
     "output_type": "execute_result"
    }
   ],
   "source": [
    "#str.replace(\"old\", \"new\")\n",
    "name = 'Suri'\n",
    "name.replace(\"u\", \"i\")\n"
   ]
  },
  {
   "cell_type": "code",
   "execution_count": 24,
   "metadata": {},
   "outputs": [
    {
     "data": {
      "text/plain": [
       "8"
      ]
     },
     "execution_count": 24,
     "metadata": {},
     "output_type": "execute_result"
    }
   ],
   "source": [
    "#str.find()\n",
    "str1 = \"This is python tutoril, there\"\n",
    "str1.find(\"python\")"
   ]
  },
  {
   "cell_type": "code",
   "execution_count": 25,
   "metadata": {},
   "outputs": [
    {
     "data": {
      "text/plain": [
       "'s-b-c-d-e'"
      ]
     },
     "execution_count": 25,
     "metadata": {},
     "output_type": "execute_result"
    }
   ],
   "source": [
    "#str.join() 連結\n",
    "str1 = \"-\"\n",
    "\"-\".join(\"abcde\")"
   ]
  },
  {
   "cell_type": "code",
   "execution_count": 30,
   "metadata": {},
   "outputs": [
    {
     "data": {
      "text/plain": [
       "['python', ' java', ' c++', ' ruby']"
      ]
     },
     "execution_count": 30,
     "metadata": {},
     "output_type": "execute_result"
    }
   ],
   "source": [
    "#str.split() 切割\n",
    "str2 = \"python, java, c++, ruby\"\n",
    "str2.split(sep = \",\")"
   ]
  },
  {
   "cell_type": "code",
   "execution_count": 31,
   "metadata": {},
   "outputs": [
    {
     "name": "stdout",
     "output_type": "stream",
     "text": [
      "請輸入age:\n",
      "您的age:56\n"
     ]
    }
   ],
   "source": [
    "print(\"請輸入age:\")\n",
    "age = input(\"請輸入age:\")\n",
    "if not age.isdigit():\n",
    "    print(\"輸入錯誤\")\n",
    "else:\n",
    "    print(f\"您的age:{age}\")"
   ]
  },
  {
   "cell_type": "code",
   "execution_count": 11,
   "metadata": {},
   "outputs": [
    {
     "name": "stdout",
     "output_type": "stream",
     "text": [
      "               hello\n",
      "hello               \n",
      "       hello        \n"
     ]
    }
   ],
   "source": [
    "#ljust rjust center\n",
    "str1 = 'hello'.rjust(20)\n",
    "str2 = 'hello'.ljust(20)\n",
    "str3 = 'hello'.center(20)\n",
    "print(str1)\n",
    "print(str2)\n",
    "print(str3)\n"
   ]
  },
  {
   "cell_type": "code",
   "execution_count": 13,
   "metadata": {},
   "outputs": [
    {
     "name": "stdout",
     "output_type": "stream",
     "text": [
      "---------早餐---------\n",
      "火腿蛋............   30\n",
      "三明治............   25\n"
     ]
    }
   ],
   "source": [
    "str1 = '早餐'.center(20, '-')\n",
    "str2 = ('火腿蛋'.ljust(15, '.') + '30'.rjust(5))\n",
    "str3 = ('三明治'.ljust(15, '.') + '25'.rjust(5))\n",
    "print(str1)\n",
    "print(str2)\n",
    "print(str3)"
   ]
  },
  {
   "cell_type": "code",
   "execution_count": 25,
   "metadata": {},
   "outputs": [
    {
     "name": "stdout",
     "output_type": "stream",
     "text": [
      "您的手機號碼是:0979709773\n"
     ]
    }
   ],
   "source": [
    "#檢查台灣手機號碼輸入格式(xxxx-xxx-xxx)\n",
    "def isPhoneNum(text:str) -> bool:\n",
    "    if len(text) != 10:\n",
    "        return False\n",
    "    return True\n",
    "\n",
    "phoneNum = input(\"請輸入手機號碼:\")\n",
    "if isPhoneNum(phoneNum):\n",
    "    print(f\"您的手機號碼是:{phoneNum}\")\n",
    "else:\n",
    "    print(f\"您的手機號碼是{phoneNum}, 格式有誤\")"
   ]
  }
 ],
 "metadata": {
  "kernelspec": {
   "display_name": "Python 3",
   "language": "python",
   "name": "python3"
  },
  "language_info": {
   "codemirror_mode": {
    "name": "ipython",
    "version": 3
   },
   "file_extension": ".py",
   "mimetype": "text/x-python",
   "name": "python",
   "nbconvert_exporter": "python",
   "pygments_lexer": "ipython3",
   "version": "3.10.12"
  },
  "orig_nbformat": 4
 },
 "nbformat": 4,
 "nbformat_minor": 2
}
