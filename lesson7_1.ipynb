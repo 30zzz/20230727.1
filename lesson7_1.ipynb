{
 "cells": [
  {
   "cell_type": "code",
   "execution_count": 1,
   "metadata": {},
   "outputs": [
    {
     "name": "stdout",
     "output_type": "stream",
     "text": [
      "quack\n"
     ]
    }
   ],
   "source": [
    "#無參數，無穿出值的function\n",
    "def makeSound():\n",
    "    print(\"quack\")\n",
    "\n",
    "makeSound()"
   ]
  },
  {
   "cell_type": "code",
   "execution_count": 9,
   "metadata": {},
   "outputs": [
    {
     "name": "stdout",
     "output_type": "stream",
     "text": [
      "3 + 8 = 11\n",
      "3 x 8 = 24\n"
     ]
    }
   ],
   "source": [
    "def add(first, second):\n",
    "    print(f\"{first} + {second} = {first + second}\")\n",
    "\n",
    "def mul(first, second):\n",
    "    print(f\"{first} x {second} = {first * second}\")\n",
    "\n",
    "#引數值\n",
    "add(3, 8)\n",
    "mul(3, 8)"
   ]
  },
  {
   "cell_type": "code",
   "execution_count": 11,
   "metadata": {},
   "outputs": [
    {
     "name": "stdout",
     "output_type": "stream",
     "text": [
      "3 + 8 = 11\n",
      "3 x 8 = 24\n"
     ]
    }
   ],
   "source": [
    "#引數名稱的呼叫，優點：可不依照順序\n",
    "add(first = 3, second = 8)\n",
    "mul( second = 8, first = 3)"
   ]
  },
  {
   "cell_type": "code",
   "execution_count": 13,
   "metadata": {},
   "outputs": [
    {
     "name": "stdout",
     "output_type": "stream",
     "text": [
      "3 + 8 = 11\n",
      "3 x 8 = 24\n"
     ]
    }
   ],
   "source": [
    "#混和呼叫，前用引數值呼叫 後用引數名稱呼較\n",
    "add(3, second = 8)\n",
    "mul(3, second = 8)"
   ]
  },
  {
   "cell_type": "code",
   "execution_count": null,
   "metadata": {},
   "outputs": [],
   "source": []
  }
 ],
 "metadata": {
  "kernelspec": {
   "display_name": "Python 3",
   "language": "python",
   "name": "python3"
  },
  "language_info": {
   "codemirror_mode": {
    "name": "ipython",
    "version": 3
   },
   "file_extension": ".py",
   "mimetype": "text/x-python",
   "name": "python",
   "nbconvert_exporter": "python",
   "pygments_lexer": "ipython3",
   "version": "3.10.12"
  },
  "orig_nbformat": 4
 },
 "nbformat": 4,
 "nbformat_minor": 2
}
