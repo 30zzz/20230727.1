{
 "cells": [
  {
   "cell_type": "code",
   "execution_count": 10,
   "metadata": {},
   "outputs": [
    {
     "data": {
      "text/plain": [
       "5000"
      ]
     },
     "execution_count": 10,
     "metadata": {},
     "output_type": "execute_result"
    }
   ],
   "source": [
    "100 * 50"
   ]
  },
  {
   "cell_type": "code",
   "execution_count": 11,
   "metadata": {},
   "outputs": [
    {
     "name": "stdout",
     "output_type": "stream",
     "text": [
      "對邊:2.5, 斜邊:5, 角度:30.00\n"
     ]
    }
   ],
   "source": [
    "#高中數學\n",
    "#計算角度\n",
    "import math\n",
    "side1 = eval(input(\"請輸入對邊:\"))\n",
    "side2 = eval(input(\"請輸入斜邊:\"))\n",
    "\n",
    "rad = math.asin(side1 / side2)\n",
    "degree = math.degrees(rad)\n",
    "print(f\"對邊:{side1}, 斜邊:{side2}, 角度:{degree:.2f}\")"
   ]
  },
  {
   "cell_type": "code",
   "execution_count": 12,
   "metadata": {},
   "outputs": [
    {
     "name": "stdout",
     "output_type": "stream",
     "text": [
      "梯形面積: 75.0 平方公分\n"
     ]
    }
   ],
   "source": [
    "#國中數學\n",
    "#請使用者輸入梯形上下底及高、程式計算面積((上底+下底)/*高)\n",
    "top = float(input(\"請輸入梯形上底(公分): \"))\n",
    "bot = float(input(\"請輸入梯形下底(公分): \"))\n",
    "hight = float(input(\"請輸入梯形高(公分): \"))\n",
    "\n",
    "sum = (bot + top) * hight / 2\n",
    "\n",
    "print(\"梯形面積:\", round(sum, ndigits = 2), \"平方公分\")"
   ]
  }
 ],
 "metadata": {
  "kernelspec": {
   "display_name": "Python 3",
   "language": "python",
   "name": "python3"
  },
  "language_info": {
   "codemirror_mode": {
    "name": "ipython",
    "version": 3
   },
   "file_extension": ".py",
   "mimetype": "text/x-python",
   "name": "python",
   "nbconvert_exporter": "python",
   "pygments_lexer": "ipython3",
   "version": "3.10.12"
  },
  "orig_nbformat": 4
 },
 "nbformat": 4,
 "nbformat_minor": 2
}
